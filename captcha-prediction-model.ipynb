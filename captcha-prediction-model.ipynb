{
 "cells": [
  {
   "cell_type": "code",
   "execution_count": 1,
   "metadata": {
    "_cell_guid": "b1076dfc-b9ad-4769-8c92-a6c4dae69d19",
    "_uuid": "8f2839f25d086af736a60e9eeb907d3b93b6e0e5",
    "execution": {
     "iopub.execute_input": "2025-04-26T04:49:35.339967Z",
     "iopub.status.busy": "2025-04-26T04:49:35.339701Z",
     "iopub.status.idle": "2025-04-26T04:49:38.161542Z",
     "shell.execute_reply": "2025-04-26T04:49:38.160643Z",
     "shell.execute_reply.started": "2025-04-26T04:49:35.339939Z"
    },
    "trusted": true
   },
   "outputs": [],
   "source": [
    "# This Python 3 environment comes with many helpful analytics libraries installed\n",
    "# It is defined by the kaggle/python Docker image: https://github.com/kaggle/docker-python\n",
    "# For example, here's several helpful packages to load\n",
    "\n",
    "import numpy as np # linear algebra\n",
    "import pandas as pd # data processing, CSV file I/O (e.g. pd.read_csv)\n",
    "\n",
    "# Input data files are available in the read-only \"../input/\" directory\n",
    "# For example, running this (by clicking run or pressing Shift+Enter) will list all files under the input directory\n",
    "\n",
    "import os\n",
    "for dirname, _, filenames in os.walk('/kaggle/input'):\n",
    "    for filename in filenames:\n",
    "        # print(os.path.join(dirname, filename))\n",
    "        pass\n",
    "\n",
    "# You can write up to 20GB to the current directory (/kaggle/working/) that gets preserved as output when you create a version using \"Save & Run All\" \n",
    "# You can also write temporary files to /kaggle/temp/, but they won't be saved outside of the current session"
   ]
  },
  {
   "cell_type": "code",
   "execution_count": 2,
   "metadata": {
    "execution": {
     "iopub.execute_input": "2025-04-26T04:49:43.176000Z",
     "iopub.status.busy": "2025-04-26T04:49:43.175714Z",
     "iopub.status.idle": "2025-04-26T04:50:00.950286Z",
     "shell.execute_reply": "2025-04-26T04:50:00.949355Z",
     "shell.execute_reply.started": "2025-04-26T04:49:43.175979Z"
    },
    "trusted": true
   },
   "outputs": [
    {
     "ename": "FileNotFoundError",
     "evalue": "[Errno 2] No such file or directory: 'C:\\\\kaggle\\\\input\\\\captcha-version-2-images\\\\samples\\\\samples\\\\37d52.png'",
     "output_type": "error",
     "traceback": [
      "\u001b[1;31m---------------------------------------------------------------------------\u001b[0m",
      "\u001b[1;31mFileNotFoundError\u001b[0m                         Traceback (most recent call last)",
      "Cell \u001b[1;32mIn[2], line 6\u001b[0m\n\u001b[0;32m      3\u001b[0m \u001b[38;5;28;01mfrom\u001b[39;00m \u001b[38;5;21;01msklearn\u001b[39;00m\u001b[38;5;21;01m.\u001b[39;00m\u001b[38;5;21;01mmodel_selection\u001b[39;00m \u001b[38;5;28;01mimport\u001b[39;00m train_test_split\n\u001b[0;32m      4\u001b[0m \u001b[38;5;28;01mimport\u001b[39;00m \u001b[38;5;21;01mtensorflow\u001b[39;00m \u001b[38;5;28;01mas\u001b[39;00m \u001b[38;5;21;01mtf\u001b[39;00m\n\u001b[1;32m----> 6\u001b[0m img\u001b[38;5;241m=\u001b[39m\u001b[43mImage\u001b[49m\u001b[38;5;241;43m.\u001b[39;49m\u001b[43mopen\u001b[49m\u001b[43m(\u001b[49m\u001b[38;5;124;43m'\u001b[39;49m\u001b[38;5;124;43m/kaggle/input/captcha-version-2-images/samples/samples/37d52.png\u001b[39;49m\u001b[38;5;124;43m'\u001b[39;49m\u001b[43m)\u001b[49m\n\u001b[0;32m      7\u001b[0m plt\u001b[38;5;241m.\u001b[39mimshow(img)\n\u001b[0;32m      8\u001b[0m plt\u001b[38;5;241m.\u001b[39mshow()\n",
      "File \u001b[1;32m~\\AppData\\Local\\Packages\\PythonSoftwareFoundation.Python.3.11_qbz5n2kfra8p0\\LocalCache\\local-packages\\Python311\\site-packages\\PIL\\Image.py:3431\u001b[0m, in \u001b[0;36mopen\u001b[1;34m(fp, mode, formats)\u001b[0m\n\u001b[0;32m   3428\u001b[0m     filename \u001b[38;5;241m=\u001b[39m os\u001b[38;5;241m.\u001b[39mpath\u001b[38;5;241m.\u001b[39mrealpath(os\u001b[38;5;241m.\u001b[39mfspath(fp))\n\u001b[0;32m   3430\u001b[0m \u001b[38;5;28;01mif\u001b[39;00m filename:\n\u001b[1;32m-> 3431\u001b[0m     fp \u001b[38;5;241m=\u001b[39m \u001b[43mbuiltins\u001b[49m\u001b[38;5;241;43m.\u001b[39;49m\u001b[43mopen\u001b[49m\u001b[43m(\u001b[49m\u001b[43mfilename\u001b[49m\u001b[43m,\u001b[49m\u001b[43m \u001b[49m\u001b[38;5;124;43m\"\u001b[39;49m\u001b[38;5;124;43mrb\u001b[39;49m\u001b[38;5;124;43m\"\u001b[39;49m\u001b[43m)\u001b[49m\n\u001b[0;32m   3432\u001b[0m     exclusive_fp \u001b[38;5;241m=\u001b[39m \u001b[38;5;28;01mTrue\u001b[39;00m\n\u001b[0;32m   3433\u001b[0m \u001b[38;5;28;01melse\u001b[39;00m:\n",
      "\u001b[1;31mFileNotFoundError\u001b[0m: [Errno 2] No such file or directory: 'C:\\\\kaggle\\\\input\\\\captcha-version-2-images\\\\samples\\\\samples\\\\37d52.png'"
     ]
    }
   ],
   "source": [
    "import matplotlib.pyplot as plt\n",
    "from PIL import Image\n",
    "from sklearn.model_selection import train_test_split\n",
    "import tensorflow as tf\n",
    "\n",
    "img=Image.open('/kaggle/input/captcha-version-2-images/samples/samples/37d52.png')\n",
    "plt.imshow(img)\n",
    "plt.show()"
   ]
  },
  {
   "cell_type": "code",
   "execution_count": 3,
   "metadata": {
    "execution": {
     "iopub.execute_input": "2025-04-26T04:50:00.952196Z",
     "iopub.status.busy": "2025-04-26T04:50:00.951629Z",
     "iopub.status.idle": "2025-04-26T04:50:00.956500Z",
     "shell.execute_reply": "2025-04-26T04:50:00.955659Z",
     "shell.execute_reply.started": "2025-04-26T04:50:00.952171Z"
    },
    "trusted": true
   },
   "outputs": [],
   "source": [
    "image_dir='/kaggle/input/captcha-version-2-images/samples/samples/'\n",
    "IMG_WIDTH, IMG_HEIGHT=100,50"
   ]
  },
  {
   "cell_type": "code",
   "execution_count": 4,
   "metadata": {
    "execution": {
     "iopub.execute_input": "2025-04-26T04:54:18.026456Z",
     "iopub.status.busy": "2025-04-26T04:54:18.025803Z",
     "iopub.status.idle": "2025-04-26T04:54:18.113902Z",
     "shell.execute_reply": "2025-04-26T04:54:18.113019Z",
     "shell.execute_reply.started": "2025-04-26T04:54:18.026428Z"
    },
    "trusted": true
   },
   "outputs": [
    {
     "name": "stdout",
     "output_type": "stream",
     "text": [
      "Encoded label: [ 6 49  6 42 42]\n"
     ]
    }
   ],
   "source": [
    "from sklearn.preprocessing import LabelEncoder\n",
    "from tensorflow.keras.utils import to_categorical\n",
    "\n",
    "all_characters='0123456789abcdefghijklmnopqrstuvwxyzABCDEFGHIJKLMNOPQRSTUVWXYZ'\n",
    "\n",
    "label_encoder=LabelEncoder()\n",
    "label_encoder.fit(list(all_characters))\n",
    "\n",
    "def encoder_label(label):\n",
    "    return label_encoder.transform(list(label))\n",
    "\n",
    "encoded_label = encoder_label('6n6gg')\n",
    "print(\"Encoded label:\", encoded_label)"
   ]
  },
  {
   "cell_type": "code",
   "execution_count": 20,
   "metadata": {
    "execution": {
     "iopub.execute_input": "2025-04-26T05:07:59.110211Z",
     "iopub.status.busy": "2025-04-26T05:07:59.109392Z",
     "iopub.status.idle": "2025-04-26T05:07:59.114083Z",
     "shell.execute_reply": "2025-04-26T05:07:59.113448Z",
     "shell.execute_reply.started": "2025-04-26T05:07:59.110186Z"
    },
    "trusted": true
   },
   "outputs": [],
   "source": [
    "def one_hot_encode_label(encoded_label):\n",
    "    return to_categorical(encoded_label, num_classes=len(all_characters))"
   ]
  },
  {
   "cell_type": "code",
   "execution_count": 21,
   "metadata": {
    "execution": {
     "iopub.execute_input": "2025-04-26T05:08:48.181186Z",
     "iopub.status.busy": "2025-04-26T05:08:48.180498Z",
     "iopub.status.idle": "2025-04-26T05:08:49.651912Z",
     "shell.execute_reply": "2025-04-26T05:08:49.651258Z",
     "shell.execute_reply.started": "2025-04-26T05:08:48.181162Z"
    },
    "trusted": true
   },
   "outputs": [],
   "source": [
    "images = []\n",
    "labels = []\n",
    "\n",
    "for filename in os.listdir(image_dir):\n",
    "    if filename.endswith('.png'):\n",
    "        img_path = os.path.join(image_dir, filename)\n",
    "        img = Image.open(img_path).convert(\"L\")\n",
    "        img = img.resize((IMG_WIDTH, IMG_HEIGHT), resample=Image.Resampling.LANCZOS)\n",
    "        img_array = np.array(img) / 255.0\n",
    "        images.append(img_array)\n",
    "\n",
    "        label=os.path.splitext(filename)[0]\n",
    "        encoded_label=encoder_label(label)\n",
    "        one_hot_label=one_hot_encode_label(encoded_label)\n",
    "        \n",
    "\n",
    "        labels.append(one_hot_label)\n",
    "\n",
    "    \n"
   ]
  },
  {
   "cell_type": "code",
   "execution_count": 22,
   "metadata": {
    "execution": {
     "iopub.execute_input": "2025-04-26T05:08:54.496432Z",
     "iopub.status.busy": "2025-04-26T05:08:54.496108Z",
     "iopub.status.idle": "2025-04-26T05:08:54.520663Z",
     "shell.execute_reply": "2025-04-26T05:08:54.520021Z",
     "shell.execute_reply.started": "2025-04-26T05:08:54.496409Z"
    },
    "trusted": true
   },
   "outputs": [],
   "source": [
    "images=np.array(images)\n",
    "labels=np.array(labels)"
   ]
  },
  {
   "cell_type": "code",
   "execution_count": 23,
   "metadata": {
    "execution": {
     "iopub.execute_input": "2025-04-26T05:08:57.860170Z",
     "iopub.status.busy": "2025-04-26T05:08:57.859466Z",
     "iopub.status.idle": "2025-04-26T05:08:57.864979Z",
     "shell.execute_reply": "2025-04-26T05:08:57.864406Z",
     "shell.execute_reply.started": "2025-04-26T05:08:57.860148Z"
    },
    "trusted": true
   },
   "outputs": [
    {
     "data": {
      "text/plain": [
       "(1040, 50, 100, 1)"
      ]
     },
     "execution_count": 23,
     "metadata": {},
     "output_type": "execute_result"
    }
   ],
   "source": [
    "images=images.reshape(-1,IMG_HEIGHT,IMG_WIDTH, 1)\n",
    "images.shape"
   ]
  },
  {
   "cell_type": "code",
   "execution_count": 34,
   "metadata": {
    "execution": {
     "iopub.execute_input": "2025-04-26T05:22:17.697191Z",
     "iopub.status.busy": "2025-04-26T05:22:17.696391Z",
     "iopub.status.idle": "2025-04-26T05:22:17.717930Z",
     "shell.execute_reply": "2025-04-26T05:22:17.716810Z",
     "shell.execute_reply.started": "2025-04-26T05:22:17.697159Z"
    },
    "trusted": true
   },
   "outputs": [
    {
     "name": "stdout",
     "output_type": "stream",
     "text": [
      "(50, 100, 1)\n"
     ]
    }
   ],
   "source": [
    "X_train,X_test,y_train,y_test=train_test_split(images,labels,test_size=0.2, random_state=42)\n",
    "print(X_train[0].shape)"
   ]
  },
  {
   "cell_type": "code",
   "execution_count": 44,
   "metadata": {
    "execution": {
     "iopub.execute_input": "2025-04-26T05:50:39.965531Z",
     "iopub.status.busy": "2025-04-26T05:50:39.965220Z",
     "iopub.status.idle": "2025-04-26T05:50:39.969919Z",
     "shell.execute_reply": "2025-04-26T05:50:39.969149Z",
     "shell.execute_reply.started": "2025-04-26T05:50:39.965509Z"
    },
    "trusted": true
   },
   "outputs": [],
   "source": [
    "from tensorflow import keras\n",
    "from keras import Sequential\n",
    "from keras.layers import Dense,Conv2D,MaxPooling2D,Flatten,Reshape,TimeDistributed,Dropout,BatchNormalization"
   ]
  },
  {
   "cell_type": "code",
   "execution_count": null,
   "metadata": {
    "execution": {
     "iopub.execute_input": "2025-04-26T05:54:29.314124Z",
     "iopub.status.busy": "2025-04-26T05:54:29.313831Z",
     "iopub.status.idle": "2025-04-26T05:54:29.415549Z",
     "shell.execute_reply": "2025-04-26T05:54:29.414766Z",
     "shell.execute_reply.started": "2025-04-26T05:54:29.314105Z"
    },
    "trusted": true
   },
   "outputs": [],
   "source": [
    "NUM_CHARACTERS = 5\n",
    "NUM_CLASSES = 62  # 0-9, a-z, A-Z\n",
    "\n",
    "model = Sequential()\n",
    "model.add(Conv2D(64, kernel_size=(3,3), padding='valid', activation='relu', input_shape=(50,100,1)))\n",
    "model.add(BatchNormalization())\n",
    "model.add(MaxPooling2D(pool_size=(2,2), strides=2, padding='valid'))\n",
    "model.add(Dropout(0.2))\n",
    "\n",
    "model.add(Conv2D(32, kernel_size=(3,3), padding='valid', activation='relu'))\n",
    "model.add(MaxPooling2D(pool_size=(2,2), strides=2, padding='valid'))\n",
    "model.add(Dropout(0.2))\n",
    "\n",
    "model.add(Flatten())\n",
    "model.add(Dense(NUM_CHARACTERS * NUM_CLASSES, activation='relu'))  # Expand output\n",
    "model.add(Dropout(0.2))\n",
    "\n",
    "# Reshape to (5, 62) for TimeDistributed softmax\n",
    "model.add(Reshape((NUM_CHARACTERS, NUM_CLASSES)))\n",
    "model.add(TimeDistributed(Dense(NUM_CLASSES, activation='softmax')))\n"
   ]
  },
  {
   "cell_type": "code",
   "execution_count": 52,
   "metadata": {
    "execution": {
     "iopub.execute_input": "2025-04-26T05:54:31.219465Z",
     "iopub.status.busy": "2025-04-26T05:54:31.218769Z",
     "iopub.status.idle": "2025-04-26T05:54:31.227264Z",
     "shell.execute_reply": "2025-04-26T05:54:31.226532Z",
     "shell.execute_reply.started": "2025-04-26T05:54:31.219441Z"
    },
    "trusted": true
   },
   "outputs": [],
   "source": [
    "model.compile(loss='categorical_crossentropy', optimizer='adam', metrics=['accuracy'])"
   ]
  },
  {
   "cell_type": "code",
   "execution_count": 53,
   "metadata": {
    "execution": {
     "iopub.execute_input": "2025-04-26T05:54:33.984680Z",
     "iopub.status.busy": "2025-04-26T05:54:33.984029Z",
     "iopub.status.idle": "2025-04-26T06:03:44.779218Z",
     "shell.execute_reply": "2025-04-26T06:03:44.778282Z",
     "shell.execute_reply.started": "2025-04-26T05:54:33.984657Z"
    },
    "trusted": true
   },
   "outputs": [
    {
     "name": "stdout",
     "output_type": "stream",
     "text": [
      "Epoch 1/60\n",
      "\u001b[1m26/26\u001b[0m \u001b[32m━━━━━━━━━━━━━━━━━━━━\u001b[0m\u001b[37m\u001b[0m \u001b[1m12s\u001b[0m 336ms/step - accuracy: 0.0473 - loss: 4.0804 - val_accuracy: 0.0625 - val_loss: 4.0972\n",
      "Epoch 2/60\n",
      "\u001b[1m26/26\u001b[0m \u001b[32m━━━━━━━━━━━━━━━━━━━━\u001b[0m\u001b[37m\u001b[0m \u001b[1m9s\u001b[0m 333ms/step - accuracy: 0.1305 - loss: 3.0983 - val_accuracy: 0.1096 - val_loss: 4.0693\n",
      "Epoch 3/60\n",
      "\u001b[1m26/26\u001b[0m \u001b[32m━━━━━━━━━━━━━━━━━━━━\u001b[0m\u001b[37m\u001b[0m \u001b[1m8s\u001b[0m 327ms/step - accuracy: 0.2670 - loss: 2.3969 - val_accuracy: 0.2894 - val_loss: 3.9804\n",
      "Epoch 4/60\n",
      "\u001b[1m26/26\u001b[0m \u001b[32m━━━━━━━━━━━━━━━━━━━━\u001b[0m\u001b[37m\u001b[0m \u001b[1m9s\u001b[0m 330ms/step - accuracy: 0.4193 - loss: 1.8570 - val_accuracy: 0.4567 - val_loss: 3.8291\n",
      "Epoch 5/60\n",
      "\u001b[1m26/26\u001b[0m \u001b[32m━━━━━━━━━━━━━━━━━━━━\u001b[0m\u001b[37m\u001b[0m \u001b[1m9s\u001b[0m 359ms/step - accuracy: 0.5577 - loss: 1.4025 - val_accuracy: 0.5856 - val_loss: 3.5965\n",
      "Epoch 6/60\n",
      "\u001b[1m26/26\u001b[0m \u001b[32m━━━━━━━━━━━━━━━━━━━━\u001b[0m\u001b[37m\u001b[0m \u001b[1m9s\u001b[0m 324ms/step - accuracy: 0.6173 - loss: 1.1613 - val_accuracy: 0.6712 - val_loss: 3.4105\n",
      "Epoch 7/60\n",
      "\u001b[1m26/26\u001b[0m \u001b[32m━━━━━━━━━━━━━━━━━━━━\u001b[0m\u001b[37m\u001b[0m \u001b[1m8s\u001b[0m 325ms/step - accuracy: 0.6878 - loss: 0.9102 - val_accuracy: 0.7298 - val_loss: 3.1550\n",
      "Epoch 8/60\n",
      "\u001b[1m26/26\u001b[0m \u001b[32m━━━━━━━━━━━━━━━━━━━━\u001b[0m\u001b[37m\u001b[0m \u001b[1m8s\u001b[0m 316ms/step - accuracy: 0.7079 - loss: 0.8183 - val_accuracy: 0.7654 - val_loss: 2.9179\n",
      "Epoch 9/60\n",
      "\u001b[1m26/26\u001b[0m \u001b[32m━━━━━━━━━━━━━━━━━━━━\u001b[0m\u001b[37m\u001b[0m \u001b[1m9s\u001b[0m 345ms/step - accuracy: 0.7486 - loss: 0.6983 - val_accuracy: 0.7712 - val_loss: 2.5836\n",
      "Epoch 10/60\n",
      "\u001b[1m26/26\u001b[0m \u001b[32m━━━━━━━━━━━━━━━━━━━━\u001b[0m\u001b[37m\u001b[0m \u001b[1m8s\u001b[0m 320ms/step - accuracy: 0.7788 - loss: 0.6359 - val_accuracy: 0.8154 - val_loss: 2.3361\n",
      "Epoch 11/60\n",
      "\u001b[1m26/26\u001b[0m \u001b[32m━━━━━━━━━━━━━━━━━━━━\u001b[0m\u001b[37m\u001b[0m \u001b[1m10s\u001b[0m 322ms/step - accuracy: 0.8051 - loss: 0.5725 - val_accuracy: 0.8385 - val_loss: 2.0581\n",
      "Epoch 12/60\n",
      "\u001b[1m26/26\u001b[0m \u001b[32m━━━━━━━━━━━━━━━━━━━━\u001b[0m\u001b[37m\u001b[0m \u001b[1m8s\u001b[0m 323ms/step - accuracy: 0.8101 - loss: 0.5299 - val_accuracy: 0.8240 - val_loss: 1.8744\n",
      "Epoch 13/60\n",
      "\u001b[1m26/26\u001b[0m \u001b[32m━━━━━━━━━━━━━━━━━━━━\u001b[0m\u001b[37m\u001b[0m \u001b[1m11s\u001b[0m 343ms/step - accuracy: 0.8258 - loss: 0.4896 - val_accuracy: 0.8346 - val_loss: 1.4788\n",
      "Epoch 14/60\n",
      "\u001b[1m26/26\u001b[0m \u001b[32m━━━━━━━━━━━━━━━━━━━━\u001b[0m\u001b[37m\u001b[0m \u001b[1m8s\u001b[0m 319ms/step - accuracy: 0.8349 - loss: 0.4622 - val_accuracy: 0.8183 - val_loss: 1.3899\n",
      "Epoch 15/60\n",
      "\u001b[1m26/26\u001b[0m \u001b[32m━━━━━━━━━━━━━━━━━━━━\u001b[0m\u001b[37m\u001b[0m \u001b[1m9s\u001b[0m 327ms/step - accuracy: 0.8488 - loss: 0.4373 - val_accuracy: 0.8308 - val_loss: 1.1957\n",
      "Epoch 16/60\n",
      "\u001b[1m26/26\u001b[0m \u001b[32m━━━━━━━━━━━━━━━━━━━━\u001b[0m\u001b[37m\u001b[0m \u001b[1m9s\u001b[0m 347ms/step - accuracy: 0.8439 - loss: 0.4320 - val_accuracy: 0.8327 - val_loss: 1.0057\n",
      "Epoch 17/60\n",
      "\u001b[1m26/26\u001b[0m \u001b[32m━━━━━━━━━━━━━━━━━━━━\u001b[0m\u001b[37m\u001b[0m \u001b[1m8s\u001b[0m 316ms/step - accuracy: 0.8632 - loss: 0.4050 - val_accuracy: 0.8365 - val_loss: 0.8680\n",
      "Epoch 18/60\n",
      "\u001b[1m26/26\u001b[0m \u001b[32m━━━━━━━━━━━━━━━━━━━━\u001b[0m\u001b[37m\u001b[0m \u001b[1m10s\u001b[0m 317ms/step - accuracy: 0.8609 - loss: 0.3968 - val_accuracy: 0.8423 - val_loss: 0.7599\n",
      "Epoch 19/60\n",
      "\u001b[1m26/26\u001b[0m \u001b[32m━━━━━━━━━━━━━━━━━━━━\u001b[0m\u001b[37m\u001b[0m \u001b[1m10s\u001b[0m 316ms/step - accuracy: 0.8463 - loss: 0.4149 - val_accuracy: 0.8538 - val_loss: 0.6672\n",
      "Epoch 20/60\n",
      "\u001b[1m26/26\u001b[0m \u001b[32m━━━━━━━━━━━━━━━━━━━━\u001b[0m\u001b[37m\u001b[0m \u001b[1m11s\u001b[0m 340ms/step - accuracy: 0.8637 - loss: 0.3882 - val_accuracy: 0.8317 - val_loss: 0.6609\n",
      "Epoch 21/60\n",
      "\u001b[1m26/26\u001b[0m \u001b[32m━━━━━━━━━━━━━━━━━━━━\u001b[0m\u001b[37m\u001b[0m \u001b[1m9s\u001b[0m 328ms/step - accuracy: 0.8587 - loss: 0.3749 - val_accuracy: 0.8510 - val_loss: 0.6021\n",
      "Epoch 22/60\n",
      "\u001b[1m26/26\u001b[0m \u001b[32m━━━━━━━━━━━━━━━━━━━━\u001b[0m\u001b[37m\u001b[0m \u001b[1m10s\u001b[0m 320ms/step - accuracy: 0.8504 - loss: 0.3953 - val_accuracy: 0.8433 - val_loss: 0.5988\n",
      "Epoch 23/60\n",
      "\u001b[1m26/26\u001b[0m \u001b[32m━━━━━━━━━━━━━━━━━━━━\u001b[0m\u001b[37m\u001b[0m \u001b[1m9s\u001b[0m 338ms/step - accuracy: 0.8729 - loss: 0.3622 - val_accuracy: 0.8452 - val_loss: 0.6057\n",
      "Epoch 24/60\n",
      "\u001b[1m26/26\u001b[0m \u001b[32m━━━━━━━━━━━━━━━━━━━━\u001b[0m\u001b[37m\u001b[0m \u001b[1m8s\u001b[0m 322ms/step - accuracy: 0.8706 - loss: 0.3616 - val_accuracy: 0.8702 - val_loss: 0.5627\n",
      "Epoch 25/60\n",
      "\u001b[1m26/26\u001b[0m \u001b[32m━━━━━━━━━━━━━━━━━━━━\u001b[0m\u001b[37m\u001b[0m \u001b[1m8s\u001b[0m 320ms/step - accuracy: 0.8857 - loss: 0.3272 - val_accuracy: 0.8606 - val_loss: 0.5465\n",
      "Epoch 26/60\n",
      "\u001b[1m26/26\u001b[0m \u001b[32m━━━━━━━━━━━━━━━━━━━━\u001b[0m\u001b[37m\u001b[0m \u001b[1m8s\u001b[0m 323ms/step - accuracy: 0.8877 - loss: 0.3238 - val_accuracy: 0.8721 - val_loss: 0.5482\n",
      "Epoch 27/60\n",
      "\u001b[1m26/26\u001b[0m \u001b[32m━━━━━━━━━━━━━━━━━━━━\u001b[0m\u001b[37m\u001b[0m \u001b[1m9s\u001b[0m 340ms/step - accuracy: 0.8724 - loss: 0.3461 - val_accuracy: 0.8750 - val_loss: 0.5455\n",
      "Epoch 28/60\n",
      "\u001b[1m26/26\u001b[0m \u001b[32m━━━━━━━━━━━━━━━━━━━━\u001b[0m\u001b[37m\u001b[0m \u001b[1m8s\u001b[0m 321ms/step - accuracy: 0.8821 - loss: 0.3190 - val_accuracy: 0.8596 - val_loss: 0.5551\n",
      "Epoch 29/60\n",
      "\u001b[1m26/26\u001b[0m \u001b[32m━━━━━━━━━━━━━━━━━━━━\u001b[0m\u001b[37m\u001b[0m \u001b[1m10s\u001b[0m 322ms/step - accuracy: 0.8970 - loss: 0.2977 - val_accuracy: 0.8692 - val_loss: 0.5785\n",
      "Epoch 30/60\n",
      "\u001b[1m26/26\u001b[0m \u001b[32m━━━━━━━━━━━━━━━━━━━━\u001b[0m\u001b[37m\u001b[0m \u001b[1m8s\u001b[0m 316ms/step - accuracy: 0.8868 - loss: 0.3110 - val_accuracy: 0.8663 - val_loss: 0.5970\n",
      "Epoch 31/60\n",
      "\u001b[1m26/26\u001b[0m \u001b[32m━━━━━━━━━━━━━━━━━━━━\u001b[0m\u001b[37m\u001b[0m \u001b[1m9s\u001b[0m 342ms/step - accuracy: 0.8976 - loss: 0.2954 - val_accuracy: 0.8625 - val_loss: 0.5911\n",
      "Epoch 32/60\n",
      "\u001b[1m26/26\u001b[0m \u001b[32m━━━━━━━━━━━━━━━━━━━━\u001b[0m\u001b[37m\u001b[0m \u001b[1m8s\u001b[0m 317ms/step - accuracy: 0.9030 - loss: 0.2726 - val_accuracy: 0.8779 - val_loss: 0.5629\n",
      "Epoch 33/60\n",
      "\u001b[1m26/26\u001b[0m \u001b[32m━━━━━━━━━━━━━━━━━━━━\u001b[0m\u001b[37m\u001b[0m \u001b[1m8s\u001b[0m 317ms/step - accuracy: 0.8942 - loss: 0.2894 - val_accuracy: 0.8673 - val_loss: 0.6303\n",
      "Epoch 34/60\n",
      "\u001b[1m26/26\u001b[0m \u001b[32m━━━━━━━━━━━━━━━━━━━━\u001b[0m\u001b[37m\u001b[0m \u001b[1m11s\u001b[0m 338ms/step - accuracy: 0.8943 - loss: 0.2803 - val_accuracy: 0.8750 - val_loss: 0.6078\n",
      "Epoch 35/60\n",
      "\u001b[1m26/26\u001b[0m \u001b[32m━━━━━━━━━━━━━━━━━━━━\u001b[0m\u001b[37m\u001b[0m \u001b[1m8s\u001b[0m 319ms/step - accuracy: 0.8973 - loss: 0.2792 - val_accuracy: 0.8750 - val_loss: 0.5675\n",
      "Epoch 36/60\n",
      "\u001b[1m26/26\u001b[0m \u001b[32m━━━━━━━━━━━━━━━━━━━━\u001b[0m\u001b[37m\u001b[0m \u001b[1m10s\u001b[0m 329ms/step - accuracy: 0.8987 - loss: 0.2665 - val_accuracy: 0.8788 - val_loss: 0.5557\n",
      "Epoch 37/60\n",
      "\u001b[1m26/26\u001b[0m \u001b[32m━━━━━━━━━━━━━━━━━━━━\u001b[0m\u001b[37m\u001b[0m \u001b[1m8s\u001b[0m 319ms/step - accuracy: 0.8977 - loss: 0.2842 - val_accuracy: 0.8808 - val_loss: 0.5681\n",
      "Epoch 38/60\n",
      "\u001b[1m26/26\u001b[0m \u001b[32m━━━━━━━━━━━━━━━━━━━━\u001b[0m\u001b[37m\u001b[0m \u001b[1m9s\u001b[0m 354ms/step - accuracy: 0.8949 - loss: 0.2765 - val_accuracy: 0.8663 - val_loss: 0.6117\n",
      "Epoch 39/60\n",
      "\u001b[1m26/26\u001b[0m \u001b[32m━━━━━━━━━━━━━━━━━━━━\u001b[0m\u001b[37m\u001b[0m \u001b[1m9s\u001b[0m 334ms/step - accuracy: 0.9140 - loss: 0.2498 - val_accuracy: 0.8808 - val_loss: 0.5718\n",
      "Epoch 40/60\n",
      "\u001b[1m26/26\u001b[0m \u001b[32m━━━━━━━━━━━━━━━━━━━━\u001b[0m\u001b[37m\u001b[0m \u001b[1m9s\u001b[0m 342ms/step - accuracy: 0.8991 - loss: 0.2713 - val_accuracy: 0.8683 - val_loss: 0.6351\n",
      "Epoch 41/60\n",
      "\u001b[1m26/26\u001b[0m \u001b[32m━━━━━━━━━━━━━━━━━━━━\u001b[0m\u001b[37m\u001b[0m \u001b[1m11s\u001b[0m 369ms/step - accuracy: 0.9087 - loss: 0.2510 - val_accuracy: 0.8683 - val_loss: 0.6019\n",
      "Epoch 42/60\n",
      "\u001b[1m26/26\u001b[0m \u001b[32m━━━━━━━━━━━━━━━━━━━━\u001b[0m\u001b[37m\u001b[0m \u001b[1m9s\u001b[0m 361ms/step - accuracy: 0.9149 - loss: 0.2312 - val_accuracy: 0.8740 - val_loss: 0.6432\n",
      "Epoch 43/60\n",
      "\u001b[1m26/26\u001b[0m \u001b[32m━━━━━━━━━━━━━━━━━━━━\u001b[0m\u001b[37m\u001b[0m \u001b[1m10s\u001b[0m 356ms/step - accuracy: 0.9079 - loss: 0.2480 - val_accuracy: 0.8692 - val_loss: 0.6507\n",
      "Epoch 44/60\n",
      "\u001b[1m26/26\u001b[0m \u001b[32m━━━━━━━━━━━━━━━━━━━━\u001b[0m\u001b[37m\u001b[0m \u001b[1m11s\u001b[0m 369ms/step - accuracy: 0.9102 - loss: 0.2366 - val_accuracy: 0.8721 - val_loss: 0.7198\n",
      "Epoch 45/60\n",
      "\u001b[1m26/26\u001b[0m \u001b[32m━━━━━━━━━━━━━━━━━━━━\u001b[0m\u001b[37m\u001b[0m \u001b[1m9s\u001b[0m 346ms/step - accuracy: 0.9097 - loss: 0.2474 - val_accuracy: 0.8798 - val_loss: 0.6102\n",
      "Epoch 46/60\n",
      "\u001b[1m26/26\u001b[0m \u001b[32m━━━━━━━━━━━━━━━━━━━━\u001b[0m\u001b[37m\u001b[0m \u001b[1m9s\u001b[0m 337ms/step - accuracy: 0.9106 - loss: 0.2403 - val_accuracy: 0.8654 - val_loss: 0.7246\n",
      "Epoch 47/60\n",
      "\u001b[1m26/26\u001b[0m \u001b[32m━━━━━━━━━━━━━━━━━━━━\u001b[0m\u001b[37m\u001b[0m \u001b[1m9s\u001b[0m 347ms/step - accuracy: 0.8964 - loss: 0.2939 - val_accuracy: 0.8817 - val_loss: 0.6166\n",
      "Epoch 48/60\n",
      "\u001b[1m26/26\u001b[0m \u001b[32m━━━━━━━━━━━━━━━━━━━━\u001b[0m\u001b[37m\u001b[0m \u001b[1m10s\u001b[0m 366ms/step - accuracy: 0.9067 - loss: 0.2427 - val_accuracy: 0.8808 - val_loss: 0.6269\n",
      "Epoch 49/60\n",
      "\u001b[1m26/26\u001b[0m \u001b[32m━━━━━━━━━━━━━━━━━━━━\u001b[0m\u001b[37m\u001b[0m \u001b[1m9s\u001b[0m 341ms/step - accuracy: 0.9056 - loss: 0.2532 - val_accuracy: 0.8837 - val_loss: 0.6086\n",
      "Epoch 50/60\n",
      "\u001b[1m26/26\u001b[0m \u001b[32m━━━━━━━━━━━━━━━━━━━━\u001b[0m\u001b[37m\u001b[0m \u001b[1m9s\u001b[0m 336ms/step - accuracy: 0.9005 - loss: 0.2700 - val_accuracy: 0.8827 - val_loss: 0.6029\n",
      "Epoch 51/60\n",
      "\u001b[1m26/26\u001b[0m \u001b[32m━━━━━━━━━━━━━━━━━━━━\u001b[0m\u001b[37m\u001b[0m \u001b[1m9s\u001b[0m 346ms/step - accuracy: 0.9134 - loss: 0.2208 - val_accuracy: 0.8817 - val_loss: 0.6133\n",
      "Epoch 52/60\n",
      "\u001b[1m26/26\u001b[0m \u001b[32m━━━━━━━━━━━━━━━━━━━━\u001b[0m\u001b[37m\u001b[0m \u001b[1m9s\u001b[0m 364ms/step - accuracy: 0.9196 - loss: 0.2247 - val_accuracy: 0.8683 - val_loss: 0.7229\n",
      "Epoch 53/60\n",
      "\u001b[1m26/26\u001b[0m \u001b[32m━━━━━━━━━━━━━━━━━━━━\u001b[0m\u001b[37m\u001b[0m \u001b[1m9s\u001b[0m 348ms/step - accuracy: 0.9148 - loss: 0.2257 - val_accuracy: 0.8788 - val_loss: 0.5534\n",
      "Epoch 54/60\n",
      "\u001b[1m26/26\u001b[0m \u001b[32m━━━━━━━━━━━━━━━━━━━━\u001b[0m\u001b[37m\u001b[0m \u001b[1m9s\u001b[0m 365ms/step - accuracy: 0.9205 - loss: 0.2164 - val_accuracy: 0.8856 - val_loss: 0.5572\n",
      "Epoch 55/60\n",
      "\u001b[1m26/26\u001b[0m \u001b[32m━━━━━━━━━━━━━━━━━━━━\u001b[0m\u001b[37m\u001b[0m \u001b[1m9s\u001b[0m 362ms/step - accuracy: 0.9140 - loss: 0.2254 - val_accuracy: 0.8788 - val_loss: 0.6220\n",
      "Epoch 56/60\n",
      "\u001b[1m26/26\u001b[0m \u001b[32m━━━━━━━━━━━━━━━━━━━━\u001b[0m\u001b[37m\u001b[0m \u001b[1m9s\u001b[0m 346ms/step - accuracy: 0.9026 - loss: 0.2705 - val_accuracy: 0.8779 - val_loss: 0.6239\n",
      "Epoch 57/60\n",
      "\u001b[1m26/26\u001b[0m \u001b[32m━━━━━━━━━━━━━━━━━━━━\u001b[0m\u001b[37m\u001b[0m \u001b[1m10s\u001b[0m 341ms/step - accuracy: 0.9121 - loss: 0.2311 - val_accuracy: 0.8779 - val_loss: 0.6175\n",
      "Epoch 58/60\n",
      "\u001b[1m26/26\u001b[0m \u001b[32m━━━━━━━━━━━━━━━━━━━━\u001b[0m\u001b[37m\u001b[0m \u001b[1m10s\u001b[0m 338ms/step - accuracy: 0.9151 - loss: 0.2208 - val_accuracy: 0.8779 - val_loss: 0.6601\n",
      "Epoch 59/60\n",
      "\u001b[1m26/26\u001b[0m \u001b[32m━━━━━━━━━━━━━━━━━━━━\u001b[0m\u001b[37m\u001b[0m \u001b[1m9s\u001b[0m 353ms/step - accuracy: 0.9234 - loss: 0.2004 - val_accuracy: 0.8779 - val_loss: 0.6680\n",
      "Epoch 60/60\n",
      "\u001b[1m26/26\u001b[0m \u001b[32m━━━━━━━━━━━━━━━━━━━━\u001b[0m\u001b[37m\u001b[0m \u001b[1m9s\u001b[0m 329ms/step - accuracy: 0.9183 - loss: 0.2048 - val_accuracy: 0.8817 - val_loss: 0.6509\n"
     ]
    }
   ],
   "source": [
    "history=model.fit(X_train,y_train, epochs=60, validation_data=(X_test,y_test))"
   ]
  },
  {
   "cell_type": "code",
   "execution_count": 54,
   "metadata": {
    "execution": {
     "iopub.execute_input": "2025-04-26T06:03:53.771055Z",
     "iopub.status.busy": "2025-04-26T06:03:53.770445Z",
     "iopub.status.idle": "2025-04-26T06:03:53.928767Z",
     "shell.execute_reply": "2025-04-26T06:03:53.927943Z",
     "shell.execute_reply.started": "2025-04-26T06:03:53.771031Z"
    },
    "trusted": true
   },
   "outputs": [
    {
     "data": {
      "image/png": "[encoded data removed]",
      "text/plain": [
       "<Figure size 640x480 with 1 Axes>"
      ]
     },
     "metadata": {},
     "output_type": "display_data"
    }
   ],
   "source": [
    "plt.plot(history.history['loss'], label='training error', color='red')\n",
    "plt.plot(history.history['val_loss'], label='validation error', color='blue')\n",
    "plt.legend()\n",
    "plt.show()"
   ]
  },
  {
   "cell_type": "code",
   "execution_count": 57,
   "metadata": {
    "execution": {
     "iopub.execute_input": "2025-04-26T06:06:15.314823Z",
     "iopub.status.busy": "2025-04-26T06:06:15.314509Z",
     "iopub.status.idle": "2025-04-26T06:06:15.512164Z",
     "shell.execute_reply": "2025-04-26T06:06:15.511420Z",
     "shell.execute_reply.started": "2025-04-26T06:06:15.314801Z"
    },
    "trusted": true
   },
   "outputs": [
    {
     "data": {
      "text/plain": [
       "(50, 100, 1)"
      ]
     },
     "execution_count": 57,
     "metadata": {},
     "output_type": "execute_result"
    },
    {
     "data": {
      "image/png": "[encoded data removed]",
      "text/plain": [
       "<Figure size 640x480 with 1 Axes>"
      ]
     },
     "metadata": {},
     "output_type": "display_data"
    }
   ],
   "source": [
    "plt.imshow(X_test[0])\n",
    "X_test[0].shape"
   ]
  },
  {
   "cell_type": "code",
   "execution_count": 60,
   "metadata": {
    "execution": {
     "iopub.execute_input": "2025-04-26T06:10:16.100261Z",
     "iopub.status.busy": "2025-04-26T06:10:16.099462Z",
     "iopub.status.idle": "2025-04-26T06:10:16.178940Z",
     "shell.execute_reply": "2025-04-26T06:10:16.178333Z",
     "shell.execute_reply.started": "2025-04-26T06:10:16.100237Z"
    },
    "trusted": true
   },
   "outputs": [
    {
     "name": "stdout",
     "output_type": "stream",
     "text": [
      "\u001b[1m1/1\u001b[0m \u001b[32m━━━━━━━━━━━━━━━━━━━━\u001b[0m\u001b[37m\u001b[0m \u001b[1m0s\u001b[0m 21ms/step\n",
      "[ 4  4 38  2  2]\n"
     ]
    }
   ],
   "source": [
    "y_pred = model.predict(X_test[0].reshape(1, 50, 100, 1))  # Shape: (1, 5, 62)\n",
    "y_pred = np.argmax(y_pred, axis=2)  # Now shape is (1, 5)\n",
    "print(y_pred[0])  # Output: array of 5 predicted class indices\n"
   ]
  },
  {
   "cell_type": "code",
   "execution_count": 62,
   "metadata": {
    "execution": {
     "iopub.execute_input": "2025-04-26T06:13:58.500283Z",
     "iopub.status.busy": "2025-04-26T06:13:58.499482Z",
     "iopub.status.idle": "2025-04-26T06:13:58.505483Z",
     "shell.execute_reply": "2025-04-26T06:13:58.504735Z",
     "shell.execute_reply.started": "2025-04-26T06:13:58.500257Z"
    },
    "trusted": true
   },
   "outputs": [
    {
     "data": {
      "text/plain": [
       "'44C22'"
      ]
     },
     "execution_count": 62,
     "metadata": {},
     "output_type": "execute_result"
    }
   ],
   "source": [
    "characters = list(\"0123456789abcdefghijklmnopqrstuvwxyzABCDEFGHIJKLMNOPQRSTUVWXYZ\")\n",
    "predicted_text=''.join([characters[i] for i in y_pred[0]])\n",
    "predicted_text"
   ]
  },
  {
   "cell_type": "code",
   "execution_count": null,
   "metadata": {
    "trusted": true
   },
   "outputs": [],
   "source": []
  }
 ],
 "metadata": {
  "kaggle": {
   "accelerator": "none",
   "dataSources": [
    {
     "datasetId": 38019,
     "sourceId": 306654,
     "sourceType": "datasetVersion"
    }
   ],
   "dockerImageVersionId": 31012,
   "isGpuEnabled": false,
   "isInternetEnabled": true,
   "language": "python",
   "sourceType": "notebook"
  },
  "kernelspec": {
   "display_name": "Python 3",
   "language": "python",
   "name": "python3"
  },
  "language_info": {
   "codemirror_mode": {
    "name": "ipython",
    "version": 3
   },
   "file_extension": ".py",
   "mimetype": "text/x-python",
   "name": "python",
   "nbconvert_exporter": "python",
   "pygments_lexer": "ipython3",
   "version": "3.11.9"
  }
 },
 "nbformat": 4,
 "nbformat_minor": 4
}
